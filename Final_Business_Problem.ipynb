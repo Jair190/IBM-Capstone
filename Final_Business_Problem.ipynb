{
 "cells": [
  {
   "cell_type": "markdown",
   "metadata": {},
   "source": [
    "# Introduction"
   ]
  },
  {
   "cell_type": "markdown",
   "metadata": {},
   "source": [
    "## Problem\n",
    "\n",
    "About a quarter million people are moving to Colorado every year. Many of these people are looking to set up new business and may not know what city they would want to set up their business. Specifically where in each city. This is important so people who are starting up their business are in a great location that will make them successful."
   ]
  },
  {
   "cell_type": "markdown",
   "metadata": {},
   "source": [
    "### Data\n",
    "\n",
    "The data I will be using are zip codes of all the cities in colorado with a population count. I will be joining these with other zip code data sets that are specific to cities. I will be using this data to find optimal cities to build a specific business in and what areas in those cities are best. I will be using foursquare to find information on each cities and see what kind of business are in each zip codes in order to provide feedback on what businesses would be ideal in each area. "
   ]
  },
  {
   "cell_type": "code",
   "execution_count": null,
   "metadata": {},
   "outputs": [],
   "source": []
  }
 ],
 "metadata": {
  "kernelspec": {
   "display_name": "Python 3",
   "language": "python",
   "name": "python3"
  },
  "language_info": {
   "codemirror_mode": {
    "name": "ipython",
    "version": 3
   },
   "file_extension": ".py",
   "mimetype": "text/x-python",
   "name": "python",
   "nbconvert_exporter": "python",
   "pygments_lexer": "ipython3",
   "version": "3.8.3"
  }
 },
 "nbformat": 4,
 "nbformat_minor": 4
}
